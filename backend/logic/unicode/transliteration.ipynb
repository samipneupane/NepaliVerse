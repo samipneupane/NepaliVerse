{
 "cells": [
  {
   "cell_type": "markdown",
   "id": "-2Uag6P9ZaWO",
   "metadata": {
    "id": "-2Uag6P9ZaWO"
   },
   "source": [
    "# Importing the Libraries"
   ]
  },
  {
   "cell_type": "code",
   "execution_count": 1,
   "id": "6852f92c",
   "metadata": {
    "id": "6852f92c"
   },
   "outputs": [],
   "source": [
    "import pandas as pd\n",
    "import json\n",
    "from sklearn.model_selection import train_test_split\n",
    "from keras.models import Model, load_model\n",
    "from keras.layers import Input, LSTM, Dense,Dropout\n",
    "from keras.callbacks import EarlyStopping, ModelCheckpoint\n",
    "import tensorflow as tf\n",
    "import numpy as np"
   ]
  },
  {
   "cell_type": "markdown",
   "id": "SB-qq9FkZlQd",
   "metadata": {
    "id": "SB-qq9FkZlQd"
   },
   "source": [
    "# Data Preparation"
   ]
  },
  {
   "cell_type": "code",
   "execution_count": 2,
   "id": "99473bfb",
   "metadata": {
    "id": "99473bfb"
   },
   "outputs": [
    {
     "name": "stderr",
     "output_type": "stream",
     "text": [
      "C:\\Users\\ASUS\\anaconda3\\envs\\gpu_usage\\lib\\site-packages\\tqdm\\auto.py:21: TqdmWarning: IProgress not found. Please update jupyter and ipywidgets. See https://ipywidgets.readthedocs.io/en/stable/user_install.html\n",
      "  from .autonotebook import tqdm as notebook_tqdm\n"
     ]
    }
   ],
   "source": [
    "from datasets import load_dataset\n",
    "\n",
    "ds = load_dataset(\"Saugatkafley/Nepali-Roman-Transliteration\")"
   ]
  },
  {
   "cell_type": "code",
   "execution_count": 3,
   "id": "e3e090ed-44db-489d-bb8e-6cace19d4230",
   "metadata": {},
   "outputs": [
    {
     "data": {
      "text/plain": [
       "DatasetDict({\n",
       "    train: Dataset({\n",
       "        features: ['unique_identifier', 'native word', 'english word'],\n",
       "        num_rows: 2397414\n",
       "    })\n",
       "    validation: Dataset({\n",
       "        features: ['unique_identifier', 'native word', 'english word'],\n",
       "        num_rows: 2804\n",
       "    })\n",
       "})"
      ]
     },
     "execution_count": 3,
     "metadata": {},
     "output_type": "execute_result"
    }
   ],
   "source": [
    "ds"
   ]
  },
  {
   "cell_type": "code",
   "execution_count": 4,
   "id": "af2632ad-e339-4dbc-9f43-954a447e8d5f",
   "metadata": {},
   "outputs": [
    {
     "data": {
      "text/html": [
       "<div>\n",
       "<style scoped>\n",
       "    .dataframe tbody tr th:only-of-type {\n",
       "        vertical-align: middle;\n",
       "    }\n",
       "\n",
       "    .dataframe tbody tr th {\n",
       "        vertical-align: top;\n",
       "    }\n",
       "\n",
       "    .dataframe thead th {\n",
       "        text-align: right;\n",
       "    }\n",
       "</style>\n",
       "<table border=\"1\" class=\"dataframe\">\n",
       "  <thead>\n",
       "    <tr style=\"text-align: right;\">\n",
       "      <th></th>\n",
       "      <th>unique_identifier</th>\n",
       "      <th>native word</th>\n",
       "      <th>english word</th>\n",
       "    </tr>\n",
       "  </thead>\n",
       "  <tbody>\n",
       "    <tr>\n",
       "      <th>0</th>\n",
       "      <td>nep1</td>\n",
       "      <td>मुस्कुराउँदै</td>\n",
       "      <td>muskuraundai</td>\n",
       "    </tr>\n",
       "    <tr>\n",
       "      <th>1</th>\n",
       "      <td>nep2</td>\n",
       "      <td>मान्दछन्</td>\n",
       "      <td>mandachhan</td>\n",
       "    </tr>\n",
       "    <tr>\n",
       "      <th>2</th>\n",
       "      <td>nep3</td>\n",
       "      <td>भएझैं</td>\n",
       "      <td>bhaejhain</td>\n",
       "    </tr>\n",
       "    <tr>\n",
       "      <th>3</th>\n",
       "      <td>nep4</td>\n",
       "      <td>हराउँछ</td>\n",
       "      <td>haraaunchha</td>\n",
       "    </tr>\n",
       "    <tr>\n",
       "      <th>4</th>\n",
       "      <td>nep5</td>\n",
       "      <td>मुन्टो</td>\n",
       "      <td>munto</td>\n",
       "    </tr>\n",
       "  </tbody>\n",
       "</table>\n",
       "</div>"
      ],
      "text/plain": [
       "  unique_identifier   native word  english word\n",
       "0              nep1  मुस्कुराउँदै  muskuraundai\n",
       "1              nep2      मान्दछन्    mandachhan\n",
       "2              nep3         भएझैं     bhaejhain\n",
       "3              nep4        हराउँछ   haraaunchha\n",
       "4              nep5        मुन्टो         munto"
      ]
     },
     "execution_count": 4,
     "metadata": {},
     "output_type": "execute_result"
    }
   ],
   "source": [
    "train = pd.DataFrame(ds[\"train\"][:200000])\n",
    "train.head()"
   ]
  },
  {
   "cell_type": "code",
   "execution_count": 5,
   "id": "uhRkEsSPZy6o",
   "metadata": {
    "id": "uhRkEsSPZy6o"
   },
   "outputs": [],
   "source": [
    "train['native word'] = train['native word'].astype(str)\n",
    "train['english word'] = train['english word'].astype(str)"
   ]
  },
  {
   "cell_type": "code",
   "execution_count": 6,
   "id": "C-lytLLnVgok",
   "metadata": {
    "id": "C-lytLLnVgok"
   },
   "outputs": [],
   "source": [
    "train['native word'] = train['native word'].str.strip() # nepali has no caps\n",
    "train['english word'] = train['english word'].str.strip().str.lower()"
   ]
  },
  {
   "cell_type": "code",
   "execution_count": 7,
   "id": "7sHON6JNVln_",
   "metadata": {
    "id": "7sHON6JNVln_"
   },
   "outputs": [],
   "source": [
    "train = train[~train['english word'].str.contains('\\.')]\n",
    "train = train[~train['english word'].str.contains(',')]"
   ]
  },
  {
   "cell_type": "code",
   "execution_count": 8,
   "id": "4Nt0xbiDWcn_",
   "metadata": {
    "colab": {
     "base_uri": "https://localhost:8080/",
     "height": 206
    },
    "id": "4Nt0xbiDWcn_",
    "outputId": "66904865-f6fe-44f9-f5ea-13fcb9b3a41a"
   },
   "outputs": [
    {
     "data": {
      "text/html": [
       "<div>\n",
       "<style scoped>\n",
       "    .dataframe tbody tr th:only-of-type {\n",
       "        vertical-align: middle;\n",
       "    }\n",
       "\n",
       "    .dataframe tbody tr th {\n",
       "        vertical-align: top;\n",
       "    }\n",
       "\n",
       "    .dataframe thead th {\n",
       "        text-align: right;\n",
       "    }\n",
       "</style>\n",
       "<table border=\"1\" class=\"dataframe\">\n",
       "  <thead>\n",
       "    <tr style=\"text-align: right;\">\n",
       "      <th></th>\n",
       "      <th>unique_identifier</th>\n",
       "      <th>native word</th>\n",
       "      <th>english word</th>\n",
       "    </tr>\n",
       "  </thead>\n",
       "  <tbody>\n",
       "    <tr>\n",
       "      <th>0</th>\n",
       "      <td>nep1</td>\n",
       "      <td>मुस्कुराउँदै</td>\n",
       "      <td>muskuraundai</td>\n",
       "    </tr>\n",
       "    <tr>\n",
       "      <th>1</th>\n",
       "      <td>nep2</td>\n",
       "      <td>मान्दछन्</td>\n",
       "      <td>mandachhan</td>\n",
       "    </tr>\n",
       "    <tr>\n",
       "      <th>2</th>\n",
       "      <td>nep3</td>\n",
       "      <td>भएझैं</td>\n",
       "      <td>bhaejhain</td>\n",
       "    </tr>\n",
       "    <tr>\n",
       "      <th>3</th>\n",
       "      <td>nep4</td>\n",
       "      <td>हराउँछ</td>\n",
       "      <td>haraaunchha</td>\n",
       "    </tr>\n",
       "    <tr>\n",
       "      <th>4</th>\n",
       "      <td>nep5</td>\n",
       "      <td>मुन्टो</td>\n",
       "      <td>munto</td>\n",
       "    </tr>\n",
       "  </tbody>\n",
       "</table>\n",
       "</div>"
      ],
      "text/plain": [
       "  unique_identifier   native word  english word\n",
       "0              nep1  मुस्कुराउँदै  muskuraundai\n",
       "1              nep2      मान्दछन्    mandachhan\n",
       "2              nep3         भएझैं     bhaejhain\n",
       "3              nep4        हराउँछ   haraaunchha\n",
       "4              nep5        मुन्टो         munto"
      ]
     },
     "execution_count": 8,
     "metadata": {},
     "output_type": "execute_result"
    }
   ],
   "source": [
    "train.head()"
   ]
  },
  {
   "cell_type": "code",
   "execution_count": 9,
   "id": "Tt0qStJzVlK_",
   "metadata": {
    "id": "Tt0qStJzVlK_"
   },
   "outputs": [],
   "source": [
    "def isEnglish(s):\n",
    "  try:\n",
    "      s.encode(encoding='utf-8').decode('ascii')\n",
    "  except UnicodeDecodeError:\n",
    "      return False\n",
    "  else:\n",
    "      return True\n",
    "\n",
    "train = train[train['english word'].apply(isEnglish)]"
   ]
  },
  {
   "cell_type": "code",
   "execution_count": 10,
   "id": "h_kEzqWjViyN",
   "metadata": {
    "colab": {
     "base_uri": "https://localhost:8080/",
     "height": 206
    },
    "id": "h_kEzqWjViyN",
    "outputId": "21852659-93db-4cf7-8f9c-69fd96547c74"
   },
   "outputs": [
    {
     "data": {
      "text/html": [
       "<div>\n",
       "<style scoped>\n",
       "    .dataframe tbody tr th:only-of-type {\n",
       "        vertical-align: middle;\n",
       "    }\n",
       "\n",
       "    .dataframe tbody tr th {\n",
       "        vertical-align: top;\n",
       "    }\n",
       "\n",
       "    .dataframe thead th {\n",
       "        text-align: right;\n",
       "    }\n",
       "</style>\n",
       "<table border=\"1\" class=\"dataframe\">\n",
       "  <thead>\n",
       "    <tr style=\"text-align: right;\">\n",
       "      <th></th>\n",
       "      <th>unique_identifier</th>\n",
       "      <th>native word</th>\n",
       "      <th>english word</th>\n",
       "    </tr>\n",
       "  </thead>\n",
       "  <tbody>\n",
       "    <tr>\n",
       "      <th>0</th>\n",
       "      <td>nep1</td>\n",
       "      <td>मुस्कुराउँदै</td>\n",
       "      <td>^muskuraundai$</td>\n",
       "    </tr>\n",
       "    <tr>\n",
       "      <th>1</th>\n",
       "      <td>nep2</td>\n",
       "      <td>मान्दछन्</td>\n",
       "      <td>^mandachhan$</td>\n",
       "    </tr>\n",
       "    <tr>\n",
       "      <th>2</th>\n",
       "      <td>nep3</td>\n",
       "      <td>भएझैं</td>\n",
       "      <td>^bhaejhain$</td>\n",
       "    </tr>\n",
       "    <tr>\n",
       "      <th>3</th>\n",
       "      <td>nep4</td>\n",
       "      <td>हराउँछ</td>\n",
       "      <td>^haraaunchha$</td>\n",
       "    </tr>\n",
       "    <tr>\n",
       "      <th>4</th>\n",
       "      <td>nep5</td>\n",
       "      <td>मुन्टो</td>\n",
       "      <td>^munto$</td>\n",
       "    </tr>\n",
       "  </tbody>\n",
       "</table>\n",
       "</div>"
      ],
      "text/plain": [
       "  unique_identifier   native word    english word\n",
       "0              nep1  मुस्कुराउँदै  ^muskuraundai$\n",
       "1              nep2      मान्दछन्    ^mandachhan$\n",
       "2              nep3         भएझैं     ^bhaejhain$\n",
       "3              nep4        हराउँछ   ^haraaunchha$\n",
       "4              nep5        मुन्टो         ^munto$"
      ]
     },
     "execution_count": 10,
     "metadata": {},
     "output_type": "execute_result"
    }
   ],
   "source": [
    "sos = '^'\n",
    "eos = '$'\n",
    "\n",
    "train['english word'] = sos + train['english word'].astype(str) + eos\n",
    "\n",
    "train.head()"
   ]
  },
  {
   "cell_type": "code",
   "execution_count": 11,
   "id": "1149da1c",
   "metadata": {
    "id": "1149da1c"
   },
   "outputs": [],
   "source": [
    "nepali_text = train['native word']\n",
    "english_text = train['english word']"
   ]
  },
  {
   "cell_type": "code",
   "execution_count": 12,
   "id": "-crLDTE0W12G",
   "metadata": {
    "colab": {
     "base_uri": "https://localhost:8080/"
    },
    "id": "-crLDTE0W12G",
    "outputId": "627612bd-7bae-4bd3-85e9-0c25a9438bf0"
   },
   "outputs": [
    {
     "name": "stdout",
     "output_type": "stream",
     "text": [
      "nepali text shape : (200000,)\n",
      "मुस्कुराउँदै\n",
      "english text shape : (200000,)\n",
      "^muskuraundai$\n"
     ]
    }
   ],
   "source": [
    "print('nepali text shape :',nepali_text.shape)\n",
    "print(nepali_text[0])\n",
    "print('english text shape :',english_text.shape)\n",
    "print(english_text[0])"
   ]
  },
  {
   "cell_type": "code",
   "execution_count": 13,
   "id": "f198560e",
   "metadata": {
    "id": "f198560e"
   },
   "outputs": [],
   "source": [
    "train_nepali_text, val_nepali_text, train_english_text, val_english_text = train_test_split(nepali_text, english_text, test_size=0.2, random_state=42)"
   ]
  },
  {
   "cell_type": "code",
   "execution_count": 14,
   "id": "e07aa734",
   "metadata": {
    "colab": {
     "base_uri": "https://localhost:8080/"
    },
    "id": "e07aa734",
    "outputId": "af9c294d-9d28-4f6f-8235-409c3c75aad3"
   },
   "outputs": [
    {
     "name": "stdout",
     "output_type": "stream",
     "text": [
      "19\n",
      "29\n"
     ]
    }
   ],
   "source": [
    "max_input_len = max([len(text) for text in nepali_text])\n",
    "print(max_input_len)\n",
    "max_target_len = max([len(text) for text in english_text])\n",
    "print(max_target_len)"
   ]
  },
  {
   "cell_type": "code",
   "execution_count": 15,
   "id": "9514a61f",
   "metadata": {
    "colab": {
     "base_uri": "https://localhost:8080/"
    },
    "id": "9514a61f",
    "outputId": "48e7cc37-121c-498b-8ea6-43f9aa92ee37"
   },
   "outputs": [
    {
     "name": "stdout",
     "output_type": "stream",
     "text": [
      "['ँ', 'ं', 'ः', 'अ', 'आ', 'इ', 'ई', 'उ', 'ऊ', 'ऋ', 'ए', 'ऐ', 'ऑ', 'ओ', 'औ', 'क', 'ख', 'ग', 'घ', 'ङ', 'च', 'छ', 'ज', 'झ', 'ञ', 'ट', 'ठ', 'ड', 'ढ', 'ण', 'त', 'थ', 'द', 'ध', 'न', 'प', 'फ', 'ब', 'भ', 'म', 'य', 'र', 'ल', 'व', 'श', 'ष', 'स', 'ह', '़', 'ऽ', 'ा', 'ि', 'ी', 'ु', 'ू', 'ृ', 'े', 'ै', 'ॉ', 'ो', 'ौ', '्', '॰']\n",
      "['$', '^', 'a', 'b', 'c', 'd', 'e', 'f', 'g', 'h', 'i', 'j', 'k', 'l', 'm', 'n', 'o', 'p', 'q', 'r', 's', 't', 'u', 'v', 'w', 'x', 'y', 'z']\n"
     ]
    }
   ],
   "source": [
    "input_chars = sorted(list(set(''.join(nepali_text))))\n",
    "print(input_chars)\n",
    "target_chars = sorted(list(set(''.join(english_text))))\n",
    "print(target_chars)"
   ]
  },
  {
   "cell_type": "code",
   "execution_count": 16,
   "id": "ntoAV1eWcY12",
   "metadata": {
    "colab": {
     "base_uri": "https://localhost:8080/"
    },
    "id": "ntoAV1eWcY12",
    "outputId": "beee150c-c100-474a-c248-4b34bf2e5ab8"
   },
   "outputs": [
    {
     "name": "stdout",
     "output_type": "stream",
     "text": [
      "63\n",
      "28\n"
     ]
    }
   ],
   "source": [
    "num_encoder_tokens = len(input_chars)\n",
    "print(num_encoder_tokens)\n",
    "num_decoder_tokens = len(target_chars)\n",
    "print(num_decoder_tokens)"
   ]
  },
  {
   "cell_type": "code",
   "execution_count": 17,
   "id": "b-AMfYN7cZ0V",
   "metadata": {
    "colab": {
     "base_uri": "https://localhost:8080/"
    },
    "id": "b-AMfYN7cZ0V",
    "outputId": "c1588997-ccf7-49e8-dc39-5e1b2919711f"
   },
   "outputs": [
    {
     "name": "stdout",
     "output_type": "stream",
     "text": [
      "{'ँ': 0, 'ं': 1, 'ः': 2, 'अ': 3, 'आ': 4, 'इ': 5, 'ई': 6, 'उ': 7, 'ऊ': 8, 'ऋ': 9, 'ए': 10, 'ऐ': 11, 'ऑ': 12, 'ओ': 13, 'औ': 14, 'क': 15, 'ख': 16, 'ग': 17, 'घ': 18, 'ङ': 19, 'च': 20, 'छ': 21, 'ज': 22, 'झ': 23, 'ञ': 24, 'ट': 25, 'ठ': 26, 'ड': 27, 'ढ': 28, 'ण': 29, 'त': 30, 'थ': 31, 'द': 32, 'ध': 33, 'न': 34, 'प': 35, 'फ': 36, 'ब': 37, 'भ': 38, 'म': 39, 'य': 40, 'र': 41, 'ल': 42, 'व': 43, 'श': 44, 'ष': 45, 'स': 46, 'ह': 47, '़': 48, 'ऽ': 49, 'ा': 50, 'ि': 51, 'ी': 52, 'ु': 53, 'ू': 54, 'ृ': 55, 'े': 56, 'ै': 57, 'ॉ': 58, 'ो': 59, 'ौ': 60, '्': 61, '॰': 62}\n",
      "{'$': 0, '^': 1, 'a': 2, 'b': 3, 'c': 4, 'd': 5, 'e': 6, 'f': 7, 'g': 8, 'h': 9, 'i': 10, 'j': 11, 'k': 12, 'l': 13, 'm': 14, 'n': 15, 'o': 16, 'p': 17, 'q': 18, 'r': 19, 's': 20, 't': 21, 'u': 22, 'v': 23, 'w': 24, 'x': 25, 'y': 26, 'z': 27}\n"
     ]
    }
   ],
   "source": [
    "input_char_index = dict((char, i) for i, char in enumerate(input_chars))\n",
    "print(input_char_index)\n",
    "target_char_index = dict((char, i) for i, char in enumerate(target_chars))\n",
    "print(target_char_index)"
   ]
  },
  {
   "cell_type": "code",
   "execution_count": 18,
   "id": "8e317bad",
   "metadata": {
    "id": "8e317bad"
   },
   "outputs": [],
   "source": [
    "encoder_input_data = np.zeros((len(train_nepali_text), max_input_len, num_encoder_tokens), dtype='float32')\n",
    "decoder_input_data = np.zeros((len(train_english_text), max_target_len, num_decoder_tokens), dtype='float32')\n",
    "decoder_target_data = np.zeros((len(train_english_text), max_target_len, num_decoder_tokens), dtype='float32')"
   ]
  },
  {
   "cell_type": "code",
   "execution_count": 19,
   "id": "a4fa0bea",
   "metadata": {
    "id": "a4fa0bea"
   },
   "outputs": [],
   "source": [
    "for i, (input_text, target_text) in enumerate(zip(train_nepali_text, train_english_text)):\n",
    "    for t, char in enumerate(input_text):\n",
    "        encoder_input_data[i, t, input_char_index[char]] = 1\n",
    "    for t, char in enumerate(target_text):\n",
    "        decoder_input_data[i, t, target_char_index[char]] = 1\n",
    "        if t > 0:\n",
    "            decoder_target_data[i, t - 1, target_char_index[char]] = 1"
   ]
  },
  {
   "cell_type": "markdown",
   "id": "zOPF5Z82yadQ",
   "metadata": {
    "id": "zOPF5Z82yadQ"
   },
   "source": [
    "# Defining The Model"
   ]
  },
  {
   "cell_type": "code",
   "execution_count": 20,
   "id": "788fbb31",
   "metadata": {
    "id": "788fbb31"
   },
   "outputs": [],
   "source": [
    "encoder_inputs = Input(shape=(None, num_encoder_tokens))\n",
    "encoder = LSTM(256, return_state=True)\n",
    "encoder_outputs, state_h, state_c = encoder(encoder_inputs)\n",
    "encoder_states = [state_h, state_c]\n",
    "\n",
    "\n",
    "decoder_inputs = Input(shape=(None, num_decoder_tokens))\n",
    "decoder_lstm = LSTM(256, return_sequences=True, return_state=True)\n",
    "decoder_outputs, _, _ = decoder_lstm(decoder_inputs, initial_state=encoder_states)\n",
    "decoder_dense = Dense(num_decoder_tokens, activation='softmax')\n",
    "decoder_outputs = decoder_dense(decoder_outputs)"
   ]
  },
  {
   "cell_type": "code",
   "execution_count": 21,
   "id": "gh9AaKCajCsS",
   "metadata": {
    "id": "gh9AaKCajCsS"
   },
   "outputs": [],
   "source": [
    "model = Model([encoder_inputs, decoder_inputs], decoder_outputs)"
   ]
  },
  {
   "cell_type": "markdown",
   "id": "AL8437dUy60m",
   "metadata": {
    "id": "AL8437dUy60m"
   },
   "source": [
    "# Model Training"
   ]
  },
  {
   "cell_type": "code",
   "execution_count": 22,
   "id": "58c10faa",
   "metadata": {
    "colab": {
     "base_uri": "https://localhost:8080/"
    },
    "id": "58c10faa",
    "outputId": "70b0a56c-1d48-4d0c-8455-ed9ef83cf4d0"
   },
   "outputs": [
    {
     "name": "stdout",
     "output_type": "stream",
     "text": [
      "Model: \"model\"\n",
      "__________________________________________________________________________________________________\n",
      " Layer (type)                   Output Shape         Param #     Connected to                     \n",
      "==================================================================================================\n",
      " input_1 (InputLayer)           [(None, None, 63)]   0           []                               \n",
      "                                                                                                  \n",
      " input_2 (InputLayer)           [(None, None, 28)]   0           []                               \n",
      "                                                                                                  \n",
      " lstm (LSTM)                    [(None, 256),        327680      ['input_1[0][0]']                \n",
      "                                 (None, 256),                                                     \n",
      "                                 (None, 256)]                                                     \n",
      "                                                                                                  \n",
      " lstm_1 (LSTM)                  [(None, None, 256),  291840      ['input_2[0][0]',                \n",
      "                                 (None, 256),                     'lstm[0][1]',                   \n",
      "                                 (None, 256)]                     'lstm[0][2]']                   \n",
      "                                                                                                  \n",
      " dense (Dense)                  (None, None, 28)     7196        ['lstm_1[0][0]']                 \n",
      "                                                                                                  \n",
      "==================================================================================================\n",
      "Total params: 626,716\n",
      "Trainable params: 626,716\n",
      "Non-trainable params: 0\n",
      "__________________________________________________________________________________________________\n"
     ]
    }
   ],
   "source": [
    "optimizer = tf.keras.optimizers.Adam(learning_rate=0.001)\n",
    "model.compile(optimizer=optimizer, loss='categorical_crossentropy', metrics=['accuracy'])\n",
    "\n",
    "# Define callbacks for early stopping and model checkpoint\n",
    "model_save_filename = \"models/model.h5\"\n",
    "earlystopping_cb = EarlyStopping(\n",
    "    monitor=\"val_accuracy\",\n",
    "    mode=\"max\",\n",
    "    verbose=1,\n",
    "    patience=7,\n",
    "    restore_best_weights=True\n",
    ")\n",
    "mdlcheckpoint_cb = ModelCheckpoint(\n",
    "    model_save_filename,\n",
    "    monitor=\"val_accuracy\",\n",
    "    mode=\"max\",\n",
    "    verbose=1,\n",
    "    save_best_only=True\n",
    ")\n",
    "\n",
    "# Print the summary of the model\n",
    "model.summary()"
   ]
  },
  {
   "cell_type": "code",
   "execution_count": 23,
   "id": "509dc46c",
   "metadata": {
    "colab": {
     "base_uri": "https://localhost:8080/"
    },
    "id": "509dc46c",
    "outputId": "f9b68ea5-4915-43a2-bca9-0a3dfd2712e4"
   },
   "outputs": [
    {
     "name": "stdout",
     "output_type": "stream",
     "text": [
      "Epoch 1/20\n",
      "1994/2000 [============================>.] - ETA: 0s - loss: 0.8710 - accuracy: 0.1536\n",
      "Epoch 1: val_accuracy improved from -inf to 0.23427, saving model to models\\model.h5\n",
      "2000/2000 [==============================] - 26s 11ms/step - loss: 0.8701 - accuracy: 0.1538 - val_loss: 0.5682 - val_accuracy: 0.2343\n",
      "Epoch 2/20\n",
      "2000/2000 [==============================] - ETA: 0s - loss: 0.4481 - accuracy: 0.2729\n",
      "Epoch 2: val_accuracy improved from 0.23427 to 0.29577, saving model to models\\model.h5\n",
      "2000/2000 [==============================] - 21s 10ms/step - loss: 0.4481 - accuracy: 0.2729 - val_loss: 0.3687 - val_accuracy: 0.2958\n",
      "Epoch 3/20\n",
      "1997/2000 [============================>.] - ETA: 0s - loss: 0.3541 - accuracy: 0.3034\n",
      "Epoch 3: val_accuracy did not improve from 0.29577\n",
      "2000/2000 [==============================] - 22s 11ms/step - loss: 0.3542 - accuracy: 0.3034 - val_loss: 0.4907 - val_accuracy: 0.2594\n",
      "Epoch 4/20\n",
      "2000/2000 [==============================] - ETA: 0s - loss: 0.3094 - accuracy: 0.3283\n",
      "Epoch 4: val_accuracy improved from 0.29577 to 0.35050, saving model to models\\model.h5\n",
      "2000/2000 [==============================] - 23s 11ms/step - loss: 0.3094 - accuracy: 0.3283 - val_loss: 0.2607 - val_accuracy: 0.3505\n",
      "Epoch 5/20\n",
      "1996/2000 [============================>.] - ETA: 0s - loss: 0.2543 - accuracy: 0.3532\n",
      "Epoch 5: val_accuracy improved from 0.35050 to 0.35873, saving model to models\\model.h5\n",
      "2000/2000 [==============================] - 24s 12ms/step - loss: 0.2542 - accuracy: 0.3531 - val_loss: 0.2299 - val_accuracy: 0.3587\n",
      "Epoch 6/20\n",
      "1999/2000 [============================>.] - ETA: 0s - loss: 0.2214 - accuracy: 0.3614\n",
      "Epoch 6: val_accuracy improved from 0.35873 to 0.36398, saving model to models\\model.h5\n",
      "2000/2000 [==============================] - 25s 12ms/step - loss: 0.2214 - accuracy: 0.3614 - val_loss: 0.2058 - val_accuracy: 0.3640\n",
      "Epoch 7/20\n",
      "1999/2000 [============================>.] - ETA: 0s - loss: 0.2198 - accuracy: 0.3599\n",
      "Epoch 7: val_accuracy improved from 0.36398 to 0.36975, saving model to models\\model.h5\n",
      "2000/2000 [==============================] - 24s 12ms/step - loss: 0.2198 - accuracy: 0.3599 - val_loss: 0.1815 - val_accuracy: 0.3697\n",
      "Epoch 8/20\n",
      "1998/2000 [============================>.] - ETA: 0s - loss: 0.1779 - accuracy: 0.3714\n",
      "Epoch 8: val_accuracy improved from 0.36975 to 0.37290, saving model to models\\model.h5\n",
      "2000/2000 [==============================] - 23s 12ms/step - loss: 0.1779 - accuracy: 0.3714 - val_loss: 0.1655 - val_accuracy: 0.3729\n",
      "Epoch 9/20\n",
      "1997/2000 [============================>.] - ETA: 0s - loss: 0.1650 - accuracy: 0.3743\n",
      "Epoch 9: val_accuracy improved from 0.37290 to 0.37365, saving model to models\\model.h5\n",
      "2000/2000 [==============================] - 23s 12ms/step - loss: 0.1650 - accuracy: 0.3743 - val_loss: 0.1608 - val_accuracy: 0.3736\n",
      "Epoch 10/20\n",
      "1999/2000 [============================>.] - ETA: 0s - loss: 0.1508 - accuracy: 0.3780\n",
      "Epoch 10: val_accuracy did not improve from 0.37365\n",
      "2000/2000 [==============================] - 23s 12ms/step - loss: 0.1508 - accuracy: 0.3780 - val_loss: 0.1660 - val_accuracy: 0.3713\n",
      "Epoch 11/20\n",
      "1998/2000 [============================>.] - ETA: 0s - loss: 0.1421 - accuracy: 0.3798\n",
      "Epoch 11: val_accuracy improved from 0.37365 to 0.38036, saving model to models\\model.h5\n",
      "2000/2000 [==============================] - 24s 12ms/step - loss: 0.1421 - accuracy: 0.3798 - val_loss: 0.1319 - val_accuracy: 0.3804\n",
      "Epoch 12/20\n",
      "1999/2000 [============================>.] - ETA: 0s - loss: 0.1315 - accuracy: 0.3822\n",
      "Epoch 12: val_accuracy did not improve from 0.38036\n",
      "2000/2000 [==============================] - 23s 12ms/step - loss: 0.1315 - accuracy: 0.3822 - val_loss: 0.1346 - val_accuracy: 0.3794\n",
      "Epoch 13/20\n",
      "1999/2000 [============================>.] - ETA: 0s - loss: 0.1179 - accuracy: 0.3857\n",
      "Epoch 13: val_accuracy improved from 0.38036 to 0.38270, saving model to models\\model.h5\n",
      "2000/2000 [==============================] - 31s 15ms/step - loss: 0.1179 - accuracy: 0.3857 - val_loss: 0.1207 - val_accuracy: 0.3827\n",
      "Epoch 14/20\n",
      "1996/2000 [============================>.] - ETA: 0s - loss: 0.1125 - accuracy: 0.3867\n",
      "Epoch 14: val_accuracy improved from 0.38270 to 0.38494, saving model to models\\model.h5\n",
      "2000/2000 [==============================] - 28s 14ms/step - loss: 0.1124 - accuracy: 0.3867 - val_loss: 0.1111 - val_accuracy: 0.3849\n",
      "Epoch 15/20\n",
      "2000/2000 [==============================] - ETA: 0s - loss: 0.1145 - accuracy: 0.3856\n",
      "Epoch 15: val_accuracy improved from 0.38494 to 0.38582, saving model to models\\model.h5\n",
      "2000/2000 [==============================] - 23s 11ms/step - loss: 0.1145 - accuracy: 0.3856 - val_loss: 0.1055 - val_accuracy: 0.3858\n",
      "Epoch 16/20\n",
      "1994/2000 [============================>.] - ETA: 0s - loss: 0.1050 - accuracy: 0.3880\n",
      "Epoch 16: val_accuracy improved from 0.38582 to 0.38637, saving model to models\\model.h5\n",
      "2000/2000 [==============================] - 23s 12ms/step - loss: 0.1050 - accuracy: 0.3880 - val_loss: 0.1024 - val_accuracy: 0.3864\n",
      "Epoch 17/20\n",
      "1997/2000 [============================>.] - ETA: 0s - loss: 0.0966 - accuracy: 0.3901\n",
      "Epoch 17: val_accuracy did not improve from 0.38637\n",
      "2000/2000 [==============================] - 23s 11ms/step - loss: 0.0966 - accuracy: 0.3901 - val_loss: 0.1041 - val_accuracy: 0.3856\n",
      "Epoch 18/20\n",
      "1998/2000 [============================>.] - ETA: 0s - loss: 0.0924 - accuracy: 0.3910\n",
      "Epoch 18: val_accuracy improved from 0.38637 to 0.38648, saving model to models\\model.h5\n",
      "2000/2000 [==============================] - 23s 12ms/step - loss: 0.0925 - accuracy: 0.3909 - val_loss: 0.0999 - val_accuracy: 0.3865\n",
      "Epoch 19/20\n",
      "1997/2000 [============================>.] - ETA: 0s - loss: 0.0864 - accuracy: 0.3924\n",
      "Epoch 19: val_accuracy improved from 0.38648 to 0.38859, saving model to models\\model.h5\n",
      "2000/2000 [==============================] - 23s 11ms/step - loss: 0.0864 - accuracy: 0.3924 - val_loss: 0.0912 - val_accuracy: 0.3886\n",
      "Epoch 20/20\n",
      "1995/2000 [============================>.] - ETA: 0s - loss: 0.0914 - accuracy: 0.3907\n",
      "Epoch 20: val_accuracy improved from 0.38859 to 0.38862, saving model to models\\model.h5\n",
      "2000/2000 [==============================] - 23s 12ms/step - loss: 0.0914 - accuracy: 0.3907 - val_loss: 0.0904 - val_accuracy: 0.3886\n"
     ]
    }
   ],
   "source": [
    "history = model.fit([encoder_input_data, decoder_input_data], decoder_target_data,\n",
    "          batch_size=64,\n",
    "          epochs=20,\n",
    "          validation_split=0.2, \n",
    "          callbacks=[earlystopping_cb, mdlcheckpoint_cb])"
   ]
  },
  {
   "cell_type": "code",
   "execution_count": 24,
   "id": "fuf1888YbGp2",
   "metadata": {
    "colab": {
     "base_uri": "https://localhost:8080/"
    },
    "id": "fuf1888YbGp2",
    "outputId": "331fac3a-f3a8-4c69-af82-45cef62ae28f"
   },
   "outputs": [
    {
     "name": "stdout",
     "output_type": "stream",
     "text": [
      "dict_keys(['loss', 'accuracy', 'val_loss', 'val_accuracy'])\n"
     ]
    }
   ],
   "source": [
    "print(history.history.keys())"
   ]
  },
  {
   "cell_type": "code",
   "execution_count": 25,
   "id": "61rB-bdebw73",
   "metadata": {
    "colab": {
     "base_uri": "https://localhost:8080/",
     "height": 472
    },
    "id": "61rB-bdebw73",
    "outputId": "4cd91186-77b7-4925-c881-9700705ef621"
   },
   "outputs": [
    {
     "data": {
      "image/png": "[encoded data removed]",
      "text/plain": [
       "<Figure size 640x480 with 1 Axes>"
      ]
     },
     "metadata": {},
     "output_type": "display_data"
    }
   ],
   "source": [
    "import matplotlib.pyplot as plt\n",
    "plt.plot(history.history['accuracy'])\n",
    "plt.plot(history.history['val_accuracy'])\n",
    "plt.title('model accuracy')\n",
    "plt.ylabel('accuracy')\n",
    "plt.xlabel('epoch')\n",
    "plt.legend(['train', 'validation'], loc='upper left')\n",
    "plt.show()"
   ]
  },
  {
   "cell_type": "code",
   "execution_count": 26,
   "id": "vWs7823rbxUX",
   "metadata": {
    "colab": {
     "base_uri": "https://localhost:8080/",
     "height": 472
    },
    "id": "vWs7823rbxUX",
    "outputId": "0a045622-37c1-472a-af46-4cf5b68640f8"
   },
   "outputs": [
    {
     "data": {
      "image/png": "[encoded data removed]",
      "text/plain": [
       "<Figure size 640x480 with 1 Axes>"
      ]
     },
     "metadata": {},
     "output_type": "display_data"
    }
   ],
   "source": [
    "plt.plot(history.history['loss'])\n",
    "plt.plot(history.history['val_loss'])\n",
    "plt.title('model loss')\n",
    "plt.ylabel('loss')\n",
    "plt.xlabel('epoch')\n",
    "plt.legend(['train', 'validation'], loc='upper left')\n",
    "plt.show()"
   ]
  },
  {
   "cell_type": "markdown",
   "id": "VVbKC-W7zH-z",
   "metadata": {
    "id": "VVbKC-W7zH-z"
   },
   "source": [
    "# Model Inference"
   ]
  },
  {
   "cell_type": "code",
   "execution_count": 159,
   "id": "992a045d-570c-454d-900a-3fd87584a68b",
   "metadata": {},
   "outputs": [
    {
     "name": "stdout",
     "output_type": "stream",
     "text": [
      "Nepali text: मेरो नाम निका महर्जन हो\n",
      "1/1 [==============================] - 0s 374ms/step\n",
      "1/1 [==============================] - 0s 383ms/step\n",
      "1/1 [==============================] - 0s 23ms/step\n",
      "1/1 [==============================] - 0s 21ms/step\n",
      "1/1 [==============================] - 0s 22ms/step\n",
      "1/1 [==============================] - 0s 22ms/step\n",
      "1/1 [==============================] - 0s 19ms/step\n",
      "1/1 [==============================] - 0s 22ms/step\n",
      "1/1 [==============================] - 0s 21ms/step\n",
      "1/1 [==============================] - 0s 22ms/step\n",
      "1/1 [==============================] - 0s 22ms/step\n",
      "1/1 [==============================] - 0s 22ms/step\n",
      "1/1 [==============================] - 0s 17ms/step\n",
      "1/1 [==============================] - 0s 21ms/step\n",
      "1/1 [==============================] - 0s 22ms/step\n",
      "1/1 [==============================] - 0s 22ms/step\n",
      "1/1 [==============================] - 0s 22ms/step\n",
      "1/1 [==============================] - 0s 22ms/step\n",
      "1/1 [==============================] - 0s 23ms/step\n",
      "1/1 [==============================] - 0s 26ms/step\n",
      "1/1 [==============================] - 0s 23ms/step\n",
      "1/1 [==============================] - 0s 23ms/step\n",
      "1/1 [==============================] - 0s 23ms/step\n",
      "1/1 [==============================] - 0s 23ms/step\n",
      "1/1 [==============================] - 0s 23ms/step\n",
      "1/1 [==============================] - 0s 24ms/step\n",
      "1/1 [==============================] - 0s 25ms/step\n",
      "1/1 [==============================] - 0s 24ms/step\n",
      "1/1 [==============================] - 0s 23ms/step\n",
      "1/1 [==============================] - 0s 22ms/step\n",
      "1/1 [==============================] - 0s 22ms/step\n",
      "1/1 [==============================] - 0s 22ms/step\n",
      "Transliterated English text: mero nama nika maharjan ho\n"
     ]
    }
   ],
   "source": [
    "from keras.models import load_model\n",
    "import numpy as np\n",
    "\n",
    "# Define constants\n",
    "num_encoder_tokens = 63\n",
    "num_decoder_tokens = 28\n",
    "max_input_len = 19\n",
    "max_target_len = 31\n",
    "input_char_index = {'ँ': 0, 'ं': 1, 'ः': 2, 'अ': 3, 'आ': 4, 'इ': 5, 'ई': 6, 'उ': 7, 'ऊ': 8, 'ऋ': 9, 'ए': 10, 'ऐ': 11, 'ऑ': 12, 'ओ': 13, 'औ': 14, 'क': 15, 'ख': 16, 'ग': 17, 'घ': 18, 'ङ': 19, 'च': 20, 'छ': 21, 'ज': 22, 'झ': 23, 'ञ': 24, 'ट': 25, 'ठ': 26, 'ड': 27, 'ढ': 28, 'ण': 29, 'त': 30, 'थ': 31, 'द': 32, 'ध': 33, 'न': 34, 'प': 35, 'फ': 36, 'ब': 37, 'भ': 38, 'म': 39, 'य': 40, 'र': 41, 'ल': 42, 'व': 43, 'श': 44, 'ष': 45, 'स': 46, 'ह': 47, '़': 48, 'ऽ': 49, 'ा': 50, 'ि': 51, 'ी': 52, 'ु': 53, 'ू': 54, 'ृ': 55, 'े': 56, 'ै': 57, 'ॉ': 58, 'ो': 59, 'ौ': 60, '्': 61, '॰': 62}\n",
    "target_char_index = {'$': 0, '^': 1, 'a': 2, 'b': 3, 'c': 4, 'd': 5, 'e': 6, 'f': 7, 'g': 8, 'h': 9, 'i': 10, 'j': 11, 'k': 12, 'l': 13, 'm': 14, 'n': 15, 'o': 16, 'p': 17, 'q': 18, 'r': 19, 's': 20, 't': 21, 'u': 22, 'v': 23, 'w': 24, 'x': 25, 'y': 26, 'z': 27}\n",
    "\n",
    "target_chars = list(target_char_index.keys())\n",
    "\n",
    "# Load the trained model\n",
    "model = load_model('models/model_130.h5')\n",
    "\n",
    "# Extract encoder and decoder models\n",
    "encoder_inputs = model.input[0]\n",
    "encoder_outputs, state_h_enc, state_c_enc = model.get_layer('lstm').output\n",
    "encoder_states = [state_h_enc, state_c_enc]\n",
    "encoder_model = Model(encoder_inputs, encoder_states)\n",
    "\n",
    "decoder_inputs = model.input[1]\n",
    "decoder_lstm = model.get_layer('lstm_1')\n",
    "decoder_dense = model.get_layer('dense')\n",
    "\n",
    "decoder_state_input_h = Input(shape=(256,))\n",
    "decoder_state_input_c = Input(shape=(256,))\n",
    "decoder_states_inputs = [decoder_state_input_h, decoder_state_input_c]\n",
    "decoder_outputs, state_h, state_c = decoder_lstm(decoder_inputs, initial_state=decoder_states_inputs)\n",
    "decoder_states = [state_h, state_c]\n",
    "decoder_outputs = decoder_dense(decoder_outputs)\n",
    "decoder_model = Model([decoder_inputs] + decoder_states_inputs, [decoder_outputs] + decoder_states)\n",
    "\n",
    "# Decode sequence function remains the same\n",
    "def decode_sequence(input_seq):\n",
    "    states_value = encoder_model.predict(input_seq)\n",
    "    target_seq = np.zeros((1, 1, num_decoder_tokens))\n",
    "    target_seq[0, 0, target_char_index['^']] = 1.0\n",
    "    stop_condition = False\n",
    "    decoded_sentence = ''\n",
    "    while not stop_condition:\n",
    "        output_tokens, h, c = decoder_model.predict([target_seq] + states_value)\n",
    "        sampled_token_index = np.argmax(output_tokens[0, -1, :])\n",
    "        sampled_char = target_chars[sampled_token_index]\n",
    "        decoded_sentence += sampled_char\n",
    "        if (sampled_char == '$' or len(decoded_sentence) > max_target_len):\n",
    "            stop_condition = True\n",
    "        target_seq = np.zeros((1, 1, num_decoder_tokens))\n",
    "        target_seq[0, 0, sampled_token_index] = 1.0\n",
    "        states_value = [h, c]\n",
    "    return decoded_sentence\n",
    "\n",
    "# Predict output function remains the same\n",
    "def predict_output(input_text):\n",
    "    words = input_text.split(' ')\n",
    "    transliterated_words = []\n",
    "    for word in words:\n",
    "        input_seq = np.zeros((1, max_input_len, num_encoder_tokens), dtype='float32')\n",
    "        for t, char in enumerate(word):\n",
    "            input_seq[0, t, input_char_index[char]] = 1\n",
    "        decoded_word = decode_sequence(input_seq)\n",
    "        transliterated_words.append(decoded_word.rstrip('$'))\n",
    "    return ' '.join(transliterated_words)\n",
    "\n",
    "# Test the prediction\n",
    "text = 'मेरो नाम निका महर्जन हो'\n",
    "print('Nepali text:', text)\n",
    "print('Transliterated English text:', predict_output(text))\n"
   ]
  },
  {
   "cell_type": "code",
   "execution_count": null,
   "id": "3be82620-fb6b-47c5-8e72-2b5dac85640f",
   "metadata": {},
   "outputs": [],
   "source": []
  }
 ],
 "metadata": {
  "colab": {
   "include_colab_link": true,
   "provenance": []
  },
  "kernelspec": {
   "display_name": "Python 3 (ipykernel)",
   "language": "python",
   "name": "python3"
  },
  "language_info": {
   "codemirror_mode": {
    "name": "ipython",
    "version": 3
   },
   "file_extension": ".py",
   "mimetype": "text/x-python",
   "name": "python",
   "nbconvert_exporter": "python",
   "pygments_lexer": "ipython3",
   "version": "3.9.18"
  }
 },
 "nbformat": 4,
 "nbformat_minor": 5
}
