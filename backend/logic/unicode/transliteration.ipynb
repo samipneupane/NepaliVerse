{
 "cells": [
  {
   "cell_type": "markdown",
   "id": "-2Uag6P9ZaWO",
   "metadata": {
    "id": "-2Uag6P9ZaWO"
   },
   "source": [
    "# Importing the Libraries"
   ]
  },
  {
   "cell_type": "code",
   "execution_count": 1,
   "id": "6852f92c",
   "metadata": {
    "id": "6852f92c"
   },
   "outputs": [],
   "source": [
    "import pandas as pd\n",
    "import json\n",
    "from sklearn.model_selection import train_test_split\n",
    "from keras.models import Model, load_model\n",
    "from keras.layers import Input, LSTM, Dense,Dropout\n",
    "from keras.callbacks import EarlyStopping, ModelCheckpoint\n",
    "import tensorflow as tf\n",
    "import numpy as np"
   ]
  },
  {
   "cell_type": "markdown",
   "id": "SB-qq9FkZlQd",
   "metadata": {
    "id": "SB-qq9FkZlQd"
   },
   "source": [
    "# Data Preparation"
   ]
  },
  {
   "cell_type": "code",
   "execution_count": 2,
   "id": "99473bfb",
   "metadata": {
    "id": "99473bfb"
   },
   "outputs": [
    {
     "name": "stderr",
     "output_type": "stream",
     "text": [
      "C:\\Users\\ASUS\\anaconda3\\envs\\gpu_usage\\lib\\site-packages\\tqdm\\auto.py:21: TqdmWarning: IProgress not found. Please update jupyter and ipywidgets. See https://ipywidgets.readthedocs.io/en/stable/user_install.html\n",
      "  from .autonotebook import tqdm as notebook_tqdm\n"
     ]
    }
   ],
   "source": [
    "from datasets import load_dataset\n",
    "\n",
    "ds = load_dataset(\"Saugatkafley/Nepali-Roman-Transliteration\")"
   ]
  },
  {
   "cell_type": "code",
   "execution_count": 3,
   "id": "e3e090ed-44db-489d-bb8e-6cace19d4230",
   "metadata": {},
   "outputs": [
    {
     "data": {
      "text/plain": [
       "DatasetDict({\n",
       "    train: Dataset({\n",
       "        features: ['unique_identifier', 'native word', 'english word'],\n",
       "        num_rows: 2397414\n",
       "    })\n",
       "    validation: Dataset({\n",
       "        features: ['unique_identifier', 'native word', 'english word'],\n",
       "        num_rows: 2804\n",
       "    })\n",
       "})"
      ]
     },
     "execution_count": 3,
     "metadata": {},
     "output_type": "execute_result"
    }
   ],
   "source": [
    "ds"
   ]
  },
  {
   "cell_type": "code",
   "execution_count": 4,
   "id": "af2632ad-e339-4dbc-9f43-954a447e8d5f",
   "metadata": {},
   "outputs": [
    {
     "data": {
      "text/html": [
       "<div>\n",
       "<style scoped>\n",
       "    .dataframe tbody tr th:only-of-type {\n",
       "        vertical-align: middle;\n",
       "    }\n",
       "\n",
       "    .dataframe tbody tr th {\n",
       "        vertical-align: top;\n",
       "    }\n",
       "\n",
       "    .dataframe thead th {\n",
       "        text-align: right;\n",
       "    }\n",
       "</style>\n",
       "<table border=\"1\" class=\"dataframe\">\n",
       "  <thead>\n",
       "    <tr style=\"text-align: right;\">\n",
       "      <th></th>\n",
       "      <th>unique_identifier</th>\n",
       "      <th>native word</th>\n",
       "      <th>english word</th>\n",
       "    </tr>\n",
       "  </thead>\n",
       "  <tbody>\n",
       "    <tr>\n",
       "      <th>0</th>\n",
       "      <td>nep1</td>\n",
       "      <td>मुस्कुराउँदै</td>\n",
       "      <td>muskuraundai</td>\n",
       "    </tr>\n",
       "    <tr>\n",
       "      <th>1</th>\n",
       "      <td>nep2</td>\n",
       "      <td>मान्दछन्</td>\n",
       "      <td>mandachhan</td>\n",
       "    </tr>\n",
       "    <tr>\n",
       "      <th>2</th>\n",
       "      <td>nep3</td>\n",
       "      <td>भएझैं</td>\n",
       "      <td>bhaejhain</td>\n",
       "    </tr>\n",
       "    <tr>\n",
       "      <th>3</th>\n",
       "      <td>nep4</td>\n",
       "      <td>हराउँछ</td>\n",
       "      <td>haraaunchha</td>\n",
       "    </tr>\n",
       "    <tr>\n",
       "      <th>4</th>\n",
       "      <td>nep5</td>\n",
       "      <td>मुन्टो</td>\n",
       "      <td>munto</td>\n",
       "    </tr>\n",
       "  </tbody>\n",
       "</table>\n",
       "</div>"
      ],
      "text/plain": [
       "  unique_identifier   native word  english word\n",
       "0              nep1  मुस्कुराउँदै  muskuraundai\n",
       "1              nep2      मान्दछन्    mandachhan\n",
       "2              nep3         भएझैं     bhaejhain\n",
       "3              nep4        हराउँछ   haraaunchha\n",
       "4              nep5        मुन्टो         munto"
      ]
     },
     "execution_count": 4,
     "metadata": {},
     "output_type": "execute_result"
    }
   ],
   "source": [
    "train = pd.DataFrame(ds[\"train\"])#[:200000])\n",
    "train.head()"
   ]
  },
  {
   "cell_type": "code",
   "execution_count": 5,
   "id": "uhRkEsSPZy6o",
   "metadata": {
    "id": "uhRkEsSPZy6o"
   },
   "outputs": [],
   "source": [
    "train['native word'] = train['native word'].astype(str)\n",
    "train['english word'] = train['english word'].astype(str)"
   ]
  },
  {
   "cell_type": "code",
   "execution_count": 6,
   "id": "C-lytLLnVgok",
   "metadata": {
    "id": "C-lytLLnVgok"
   },
   "outputs": [],
   "source": [
    "train['native word'] = train['native word'].str.strip() # nepali has no caps\n",
    "train['english word'] = train['english word'].str.strip().str.lower()"
   ]
  },
  {
   "cell_type": "code",
   "execution_count": 7,
   "id": "7sHON6JNVln_",
   "metadata": {
    "id": "7sHON6JNVln_"
   },
   "outputs": [],
   "source": [
    "train = train[~train['english word'].str.contains('\\.')]\n",
    "train = train[~train['english word'].str.contains(',')]"
   ]
  },
  {
   "cell_type": "code",
   "execution_count": 8,
   "id": "4Nt0xbiDWcn_",
   "metadata": {
    "colab": {
     "base_uri": "https://localhost:8080/",
     "height": 206
    },
    "id": "4Nt0xbiDWcn_",
    "outputId": "66904865-f6fe-44f9-f5ea-13fcb9b3a41a"
   },
   "outputs": [
    {
     "data": {
      "text/html": [
       "<div>\n",
       "<style scoped>\n",
       "    .dataframe tbody tr th:only-of-type {\n",
       "        vertical-align: middle;\n",
       "    }\n",
       "\n",
       "    .dataframe tbody tr th {\n",
       "        vertical-align: top;\n",
       "    }\n",
       "\n",
       "    .dataframe thead th {\n",
       "        text-align: right;\n",
       "    }\n",
       "</style>\n",
       "<table border=\"1\" class=\"dataframe\">\n",
       "  <thead>\n",
       "    <tr style=\"text-align: right;\">\n",
       "      <th></th>\n",
       "      <th>unique_identifier</th>\n",
       "      <th>native word</th>\n",
       "      <th>english word</th>\n",
       "    </tr>\n",
       "  </thead>\n",
       "  <tbody>\n",
       "    <tr>\n",
       "      <th>0</th>\n",
       "      <td>nep1</td>\n",
       "      <td>मुस्कुराउँदै</td>\n",
       "      <td>muskuraundai</td>\n",
       "    </tr>\n",
       "    <tr>\n",
       "      <th>1</th>\n",
       "      <td>nep2</td>\n",
       "      <td>मान्दछन्</td>\n",
       "      <td>mandachhan</td>\n",
       "    </tr>\n",
       "    <tr>\n",
       "      <th>2</th>\n",
       "      <td>nep3</td>\n",
       "      <td>भएझैं</td>\n",
       "      <td>bhaejhain</td>\n",
       "    </tr>\n",
       "    <tr>\n",
       "      <th>3</th>\n",
       "      <td>nep4</td>\n",
       "      <td>हराउँछ</td>\n",
       "      <td>haraaunchha</td>\n",
       "    </tr>\n",
       "    <tr>\n",
       "      <th>4</th>\n",
       "      <td>nep5</td>\n",
       "      <td>मुन्टो</td>\n",
       "      <td>munto</td>\n",
       "    </tr>\n",
       "  </tbody>\n",
       "</table>\n",
       "</div>"
      ],
      "text/plain": [
       "  unique_identifier   native word  english word\n",
       "0              nep1  मुस्कुराउँदै  muskuraundai\n",
       "1              nep2      मान्दछन्    mandachhan\n",
       "2              nep3         भएझैं     bhaejhain\n",
       "3              nep4        हराउँछ   haraaunchha\n",
       "4              nep5        मुन्टो         munto"
      ]
     },
     "execution_count": 8,
     "metadata": {},
     "output_type": "execute_result"
    }
   ],
   "source": [
    "train.head()"
   ]
  },
  {
   "cell_type": "code",
   "execution_count": 9,
   "id": "Tt0qStJzVlK_",
   "metadata": {
    "id": "Tt0qStJzVlK_"
   },
   "outputs": [],
   "source": [
    "def isEnglish(s):\n",
    "  try:\n",
    "      s.encode(encoding='utf-8').decode('ascii')\n",
    "  except UnicodeDecodeError:\n",
    "      return False\n",
    "  else:\n",
    "      return True\n",
    "\n",
    "train = train[train['english word'].apply(isEnglish)]"
   ]
  },
  {
   "cell_type": "code",
   "execution_count": 10,
   "id": "h_kEzqWjViyN",
   "metadata": {
    "colab": {
     "base_uri": "https://localhost:8080/",
     "height": 206
    },
    "id": "h_kEzqWjViyN",
    "outputId": "21852659-93db-4cf7-8f9c-69fd96547c74"
   },
   "outputs": [
    {
     "data": {
      "text/html": [
       "<div>\n",
       "<style scoped>\n",
       "    .dataframe tbody tr th:only-of-type {\n",
       "        vertical-align: middle;\n",
       "    }\n",
       "\n",
       "    .dataframe tbody tr th {\n",
       "        vertical-align: top;\n",
       "    }\n",
       "\n",
       "    .dataframe thead th {\n",
       "        text-align: right;\n",
       "    }\n",
       "</style>\n",
       "<table border=\"1\" class=\"dataframe\">\n",
       "  <thead>\n",
       "    <tr style=\"text-align: right;\">\n",
       "      <th></th>\n",
       "      <th>unique_identifier</th>\n",
       "      <th>native word</th>\n",
       "      <th>english word</th>\n",
       "    </tr>\n",
       "  </thead>\n",
       "  <tbody>\n",
       "    <tr>\n",
       "      <th>0</th>\n",
       "      <td>nep1</td>\n",
       "      <td>मुस्कुराउँदै</td>\n",
       "      <td>^muskuraundai$</td>\n",
       "    </tr>\n",
       "    <tr>\n",
       "      <th>1</th>\n",
       "      <td>nep2</td>\n",
       "      <td>मान्दछन्</td>\n",
       "      <td>^mandachhan$</td>\n",
       "    </tr>\n",
       "    <tr>\n",
       "      <th>2</th>\n",
       "      <td>nep3</td>\n",
       "      <td>भएझैं</td>\n",
       "      <td>^bhaejhain$</td>\n",
       "    </tr>\n",
       "    <tr>\n",
       "      <th>3</th>\n",
       "      <td>nep4</td>\n",
       "      <td>हराउँछ</td>\n",
       "      <td>^haraaunchha$</td>\n",
       "    </tr>\n",
       "    <tr>\n",
       "      <th>4</th>\n",
       "      <td>nep5</td>\n",
       "      <td>मुन्टो</td>\n",
       "      <td>^munto$</td>\n",
       "    </tr>\n",
       "  </tbody>\n",
       "</table>\n",
       "</div>"
      ],
      "text/plain": [
       "  unique_identifier   native word    english word\n",
       "0              nep1  मुस्कुराउँदै  ^muskuraundai$\n",
       "1              nep2      मान्दछन्    ^mandachhan$\n",
       "2              nep3         भएझैं     ^bhaejhain$\n",
       "3              nep4        हराउँछ   ^haraaunchha$\n",
       "4              nep5        मुन्टो         ^munto$"
      ]
     },
     "execution_count": 10,
     "metadata": {},
     "output_type": "execute_result"
    }
   ],
   "source": [
    "sos = '^'\n",
    "eos = '$'\n",
    "\n",
    "train['english word'] = sos + train['english word'].astype(str) + eos\n",
    "\n",
    "train.head()"
   ]
  },
  {
   "cell_type": "code",
   "execution_count": 11,
   "id": "1149da1c",
   "metadata": {
    "id": "1149da1c"
   },
   "outputs": [],
   "source": [
    "nepali_text = train['native word']\n",
    "english_text = train['english word']"
   ]
  },
  {
   "cell_type": "code",
   "execution_count": 12,
   "id": "-crLDTE0W12G",
   "metadata": {
    "colab": {
     "base_uri": "https://localhost:8080/"
    },
    "id": "-crLDTE0W12G",
    "outputId": "627612bd-7bae-4bd3-85e9-0c25a9438bf0"
   },
   "outputs": [
    {
     "name": "stdout",
     "output_type": "stream",
     "text": [
      "nepali text shape : (2397414,)\n",
      "मुस्कुराउँदै\n",
      "english text shape : (2397414,)\n",
      "^muskuraundai$\n"
     ]
    }
   ],
   "source": [
    "print('nepali text shape :',nepali_text.shape)\n",
    "print(nepali_text[0])\n",
    "print('english text shape :',english_text.shape)\n",
    "print(english_text[0])"
   ]
  },
  {
   "cell_type": "code",
   "execution_count": 13,
   "id": "f198560e",
   "metadata": {
    "id": "f198560e"
   },
   "outputs": [],
   "source": [
    "train_nepali_text, val_nepali_text, train_english_text, val_english_text = train_test_split(nepali_text, english_text, test_size=0.2, random_state=42)"
   ]
  },
  {
   "cell_type": "code",
   "execution_count": 14,
   "id": "e07aa734",
   "metadata": {
    "colab": {
     "base_uri": "https://localhost:8080/"
    },
    "id": "e07aa734",
    "outputId": "af9c294d-9d28-4f6f-8235-409c3c75aad3"
   },
   "outputs": [
    {
     "name": "stdout",
     "output_type": "stream",
     "text": [
      "19\n",
      "31\n"
     ]
    }
   ],
   "source": [
    "max_input_len = max([len(text) for text in nepali_text])\n",
    "print(max_input_len)\n",
    "max_target_len = max([len(text) for text in english_text])\n",
    "print(max_target_len)"
   ]
  },
  {
   "cell_type": "code",
   "execution_count": 15,
   "id": "9514a61f",
   "metadata": {
    "colab": {
     "base_uri": "https://localhost:8080/"
    },
    "id": "9514a61f",
    "outputId": "48e7cc37-121c-498b-8ea6-43f9aa92ee37"
   },
   "outputs": [
    {
     "name": "stdout",
     "output_type": "stream",
     "text": [
      "['ँ', 'ं', 'ः', 'अ', 'आ', 'इ', 'ई', 'उ', 'ऊ', 'ऋ', 'ए', 'ऐ', 'ऑ', 'ओ', 'औ', 'क', 'ख', 'ग', 'घ', 'ङ', 'च', 'छ', 'ज', 'झ', 'ञ', 'ट', 'ठ', 'ड', 'ढ', 'ण', 'त', 'थ', 'द', 'ध', 'न', 'प', 'फ', 'ब', 'भ', 'म', 'य', 'र', 'ल', 'व', 'श', 'ष', 'स', 'ह', '़', 'ऽ', 'ा', 'ि', 'ी', 'ु', 'ू', 'ृ', 'े', 'ै', 'ॉ', 'ो', 'ौ', '्', 'ॠ', '॰']\n",
      "['$', '^', 'a', 'b', 'c', 'd', 'e', 'f', 'g', 'h', 'i', 'j', 'k', 'l', 'm', 'n', 'o', 'p', 'q', 'r', 's', 't', 'u', 'v', 'w', 'x', 'y', 'z']\n"
     ]
    }
   ],
   "source": [
    "input_chars = sorted(list(set(''.join(nepali_text))))\n",
    "print(input_chars)\n",
    "target_chars = sorted(list(set(''.join(english_text))))\n",
    "print(target_chars)"
   ]
  },
  {
   "cell_type": "code",
   "execution_count": 16,
   "id": "ntoAV1eWcY12",
   "metadata": {
    "colab": {
     "base_uri": "https://localhost:8080/"
    },
    "id": "ntoAV1eWcY12",
    "outputId": "beee150c-c100-474a-c248-4b34bf2e5ab8"
   },
   "outputs": [
    {
     "name": "stdout",
     "output_type": "stream",
     "text": [
      "64\n",
      "28\n"
     ]
    }
   ],
   "source": [
    "num_encoder_tokens = len(input_chars)\n",
    "print(num_encoder_tokens)\n",
    "num_decoder_tokens = len(target_chars)\n",
    "print(num_decoder_tokens)"
   ]
  },
  {
   "cell_type": "code",
   "execution_count": 17,
   "id": "b-AMfYN7cZ0V",
   "metadata": {
    "colab": {
     "base_uri": "https://localhost:8080/"
    },
    "id": "b-AMfYN7cZ0V",
    "outputId": "c1588997-ccf7-49e8-dc39-5e1b2919711f"
   },
   "outputs": [
    {
     "name": "stdout",
     "output_type": "stream",
     "text": [
      "{'ँ': 0, 'ं': 1, 'ः': 2, 'अ': 3, 'आ': 4, 'इ': 5, 'ई': 6, 'उ': 7, 'ऊ': 8, 'ऋ': 9, 'ए': 10, 'ऐ': 11, 'ऑ': 12, 'ओ': 13, 'औ': 14, 'क': 15, 'ख': 16, 'ग': 17, 'घ': 18, 'ङ': 19, 'च': 20, 'छ': 21, 'ज': 22, 'झ': 23, 'ञ': 24, 'ट': 25, 'ठ': 26, 'ड': 27, 'ढ': 28, 'ण': 29, 'त': 30, 'थ': 31, 'द': 32, 'ध': 33, 'न': 34, 'प': 35, 'फ': 36, 'ब': 37, 'भ': 38, 'म': 39, 'य': 40, 'र': 41, 'ल': 42, 'व': 43, 'श': 44, 'ष': 45, 'स': 46, 'ह': 47, '़': 48, 'ऽ': 49, 'ा': 50, 'ि': 51, 'ी': 52, 'ु': 53, 'ू': 54, 'ृ': 55, 'े': 56, 'ै': 57, 'ॉ': 58, 'ो': 59, 'ौ': 60, '्': 61, 'ॠ': 62, '॰': 63}\n",
      "{'$': 0, '^': 1, 'a': 2, 'b': 3, 'c': 4, 'd': 5, 'e': 6, 'f': 7, 'g': 8, 'h': 9, 'i': 10, 'j': 11, 'k': 12, 'l': 13, 'm': 14, 'n': 15, 'o': 16, 'p': 17, 'q': 18, 'r': 19, 's': 20, 't': 21, 'u': 22, 'v': 23, 'w': 24, 'x': 25, 'y': 26, 'z': 27}\n"
     ]
    }
   ],
   "source": [
    "input_char_index = dict((char, i) for i, char in enumerate(input_chars))\n",
    "print(input_char_index)\n",
    "target_char_index = dict((char, i) for i, char in enumerate(target_chars))\n",
    "print(target_char_index)"
   ]
  },
  {
   "cell_type": "code",
   "execution_count": 18,
   "id": "8e317bad",
   "metadata": {
    "id": "8e317bad"
   },
   "outputs": [],
   "source": [
    "encoder_input_data = np.zeros((len(train_nepali_text), max_input_len, num_encoder_tokens), dtype='float32')\n",
    "decoder_input_data = np.zeros((len(train_english_text), max_target_len, num_decoder_tokens), dtype='float32')\n",
    "decoder_target_data = np.zeros((len(train_english_text), max_target_len, num_decoder_tokens), dtype='float32')"
   ]
  },
  {
   "cell_type": "code",
   "execution_count": 19,
   "id": "a4fa0bea",
   "metadata": {
    "id": "a4fa0bea"
   },
   "outputs": [],
   "source": [
    "for i, (input_text, target_text) in enumerate(zip(train_nepali_text, train_english_text)):\n",
    "    for t, char in enumerate(input_text):\n",
    "        encoder_input_data[i, t, input_char_index[char]] = 1\n",
    "    for t, char in enumerate(target_text):\n",
    "        decoder_input_data[i, t, target_char_index[char]] = 1\n",
    "        if t > 0:\n",
    "            decoder_target_data[i, t - 1, target_char_index[char]] = 1"
   ]
  },
  {
   "cell_type": "code",
   "execution_count": 20,
   "id": "f06b51a1-292d-4821-9727-0ab0ebca7c2a",
   "metadata": {},
   "outputs": [],
   "source": [
    "# Split the data into training and validation sets\n",
    "encoder_input_train, encoder_input_val, decoder_input_train, decoder_input_val, decoder_target_train, decoder_target_val = train_test_split(\n",
    "    encoder_input_data, decoder_input_data, decoder_target_data, test_size=0.2, random_state=42)"
   ]
  },
  {
   "cell_type": "markdown",
   "id": "zOPF5Z82yadQ",
   "metadata": {
    "id": "zOPF5Z82yadQ"
   },
   "source": [
    "# Defining The Model"
   ]
  },
  {
   "cell_type": "code",
   "execution_count": 21,
   "id": "788fbb31",
   "metadata": {
    "id": "788fbb31"
   },
   "outputs": [],
   "source": [
    "encoder_inputs = Input(shape=(None, num_encoder_tokens))\n",
    "encoder = LSTM(256, return_state=True)\n",
    "encoder_outputs, state_h, state_c = encoder(encoder_inputs)\n",
    "encoder_states = [state_h, state_c]\n",
    "\n",
    "\n",
    "decoder_inputs = Input(shape=(None, num_decoder_tokens))\n",
    "decoder_lstm = LSTM(256, return_sequences=True, return_state=True)\n",
    "decoder_outputs, _, _ = decoder_lstm(decoder_inputs, initial_state=encoder_states)\n",
    "decoder_dense = Dense(num_decoder_tokens, activation='softmax')\n",
    "decoder_outputs = decoder_dense(decoder_outputs)"
   ]
  },
  {
   "cell_type": "code",
   "execution_count": 22,
   "id": "gh9AaKCajCsS",
   "metadata": {
    "id": "gh9AaKCajCsS"
   },
   "outputs": [],
   "source": [
    "model = Model([encoder_inputs, decoder_inputs], decoder_outputs)"
   ]
  },
  {
   "cell_type": "markdown",
   "id": "AL8437dUy60m",
   "metadata": {
    "id": "AL8437dUy60m"
   },
   "source": [
    "# Model Training"
   ]
  },
  {
   "cell_type": "code",
   "execution_count": 23,
   "id": "58c10faa",
   "metadata": {
    "colab": {
     "base_uri": "https://localhost:8080/"
    },
    "id": "58c10faa",
    "outputId": "70b0a56c-1d48-4d0c-8455-ed9ef83cf4d0"
   },
   "outputs": [
    {
     "name": "stdout",
     "output_type": "stream",
     "text": [
      "Model: \"model\"\n",
      "__________________________________________________________________________________________________\n",
      " Layer (type)                   Output Shape         Param #     Connected to                     \n",
      "==================================================================================================\n",
      " input_1 (InputLayer)           [(None, None, 64)]   0           []                               \n",
      "                                                                                                  \n",
      " input_2 (InputLayer)           [(None, None, 28)]   0           []                               \n",
      "                                                                                                  \n",
      " lstm (LSTM)                    [(None, 256),        328704      ['input_1[0][0]']                \n",
      "                                 (None, 256),                                                     \n",
      "                                 (None, 256)]                                                     \n",
      "                                                                                                  \n",
      " lstm_1 (LSTM)                  [(None, None, 256),  291840      ['input_2[0][0]',                \n",
      "                                 (None, 256),                     'lstm[0][1]',                   \n",
      "                                 (None, 256)]                     'lstm[0][2]']                   \n",
      "                                                                                                  \n",
      " dense (Dense)                  (None, None, 28)     7196        ['lstm_1[0][0]']                 \n",
      "                                                                                                  \n",
      "==================================================================================================\n",
      "Total params: 627,740\n",
      "Trainable params: 627,740\n",
      "Non-trainable params: 0\n",
      "__________________________________________________________________________________________________\n"
     ]
    }
   ],
   "source": [
    "optimizer = tf.keras.optimizers.Adam(learning_rate=0.001)\n",
    "model.compile(optimizer=optimizer, loss='categorical_crossentropy', metrics=['accuracy'])\n",
    "\n",
    "# Define callbacks for early stopping and model checkpoint\n",
    "model_save_filename = \"models/model_new.h5\"\n",
    "earlystopping_cb = EarlyStopping(\n",
    "    monitor=\"val_accuracy\",\n",
    "    mode=\"max\",\n",
    "    verbose=1,\n",
    "    patience=7,\n",
    "    restore_best_weights=True\n",
    ")\n",
    "mdlcheckpoint_cb = ModelCheckpoint(\n",
    "    model_save_filename,\n",
    "    monitor=\"val_accuracy\",\n",
    "    mode=\"max\",\n",
    "    verbose=1,\n",
    "    save_best_only=True\n",
    ")\n",
    "\n",
    "# Print the summary of the model\n",
    "model.summary()"
   ]
  },
  {
   "cell_type": "code",
   "execution_count": 24,
   "id": "a729e372-e480-4ab1-9e7e-0978e47646d0",
   "metadata": {},
   "outputs": [],
   "source": [
    "def generate_batch(encoder_input_data, decoder_input_data, decoder_target_data, batch_size):\n",
    "    num_samples = len(encoder_input_data)\n",
    "    while True:\n",
    "        for start in range(0, num_samples, batch_size):\n",
    "            end = min(start + batch_size, num_samples)\n",
    "            yield (\n",
    "                [encoder_input_data[start:end], decoder_input_data[start:end]],\n",
    "                decoder_target_data[start:end]\n",
    "            )"
   ]
  },
  {
   "cell_type": "code",
   "execution_count": 25,
   "id": "190ec778-2c22-4a64-9c58-0398c0319677",
   "metadata": {},
   "outputs": [],
   "source": [
    "# Define batch size\n",
    "batch_size = 64\n",
    "\n",
    "# Create generators for training and validation\n",
    "train_generator = generate_batch(encoder_input_train, decoder_input_train, decoder_target_train, batch_size)\n",
    "val_generator = generate_batch(encoder_input_val, decoder_input_val, decoder_target_val, batch_size)\n",
    "\n",
    "# Calculate steps per epoch and validation steps\n",
    "steps_per_epoch = len(encoder_input_train) // batch_size\n",
    "validation_steps = len(encoder_input_val) // batch_size"
   ]
  },
  {
   "cell_type": "code",
   "execution_count": 26,
   "id": "509dc46c",
   "metadata": {
    "colab": {
     "base_uri": "https://localhost:8080/"
    },
    "id": "509dc46c",
    "outputId": "f9b68ea5-4915-43a2-bca9-0a3dfd2712e4"
   },
   "outputs": [
    {
     "name": "stdout",
     "output_type": "stream",
     "text": [
      "Epoch 1/10\n",
      "23973/23974 [============================>.] - ETA: 0s - loss: 0.4788 - accuracy: 0.2557\n",
      "Epoch 1: val_accuracy improved from -inf to 0.34843, saving model to models\\model_new.h5\n",
      "23974/23974 [==============================] - 370s 15ms/step - loss: 0.4788 - accuracy: 0.2557 - val_loss: 0.1742 - val_accuracy: 0.3484\n",
      "Epoch 2/10\n",
      "23973/23974 [============================>.] - ETA: 0s - loss: 0.1292 - accuracy: 0.3578\n",
      "Epoch 2: val_accuracy improved from 0.34843 to 0.36498, saving model to models\\model_new.h5\n",
      "23974/23974 [==============================] - 372s 16ms/step - loss: 0.1292 - accuracy: 0.3578 - val_loss: 0.0969 - val_accuracy: 0.3650\n",
      "Epoch 3/10\n",
      "23973/23974 [============================>.] - ETA: 0s - loss: 0.0828 - accuracy: 0.3677\n",
      "Epoch 3: val_accuracy improved from 0.36498 to 0.37039, saving model to models\\model_new.h5\n",
      "23974/23974 [==============================] - 374s 16ms/step - loss: 0.0828 - accuracy: 0.3677 - val_loss: 0.0701 - val_accuracy: 0.3704\n",
      "Epoch 4/10\n",
      "23970/23974 [============================>.] - ETA: 0s - loss: 0.0645 - accuracy: 0.3714\n",
      "Epoch 4: val_accuracy improved from 0.37039 to 0.37229, saving model to models\\model_new.h5\n",
      "23974/23974 [==============================] - 376s 16ms/step - loss: 0.0645 - accuracy: 0.3714 - val_loss: 0.0598 - val_accuracy: 0.3723\n",
      "Epoch 5/10\n",
      "23972/23974 [============================>.] - ETA: 0s - loss: 0.0556 - accuracy: 0.3731\n",
      "Epoch 5: val_accuracy improved from 0.37229 to 0.37342, saving model to models\\model_new.h5\n",
      "23974/23974 [==============================] - 378s 16ms/step - loss: 0.0556 - accuracy: 0.3731 - val_loss: 0.0538 - val_accuracy: 0.3734\n",
      "Epoch 6/10\n",
      "23970/23974 [============================>.] - ETA: 0s - loss: 0.0502 - accuracy: 0.3742\n",
      "Epoch 6: val_accuracy improved from 0.37342 to 0.37401, saving model to models\\model_new.h5\n",
      "23974/23974 [==============================] - 382s 16ms/step - loss: 0.0502 - accuracy: 0.3742 - val_loss: 0.0502 - val_accuracy: 0.3740\n",
      "Epoch 7/10\n",
      "23972/23974 [============================>.] - ETA: 0s - loss: 0.0465 - accuracy: 0.3749\n",
      "Epoch 7: val_accuracy improved from 0.37401 to 0.37501, saving model to models\\model_new.h5\n",
      "23974/23974 [==============================] - 382s 16ms/step - loss: 0.0465 - accuracy: 0.3749 - val_loss: 0.0452 - val_accuracy: 0.3750\n",
      "Epoch 8/10\n",
      "23974/23974 [==============================] - ETA: 0s - loss: 0.0434 - accuracy: 0.3755\n",
      "Epoch 8: val_accuracy improved from 0.37501 to 0.37546, saving model to models\\model_new.h5\n",
      "23974/23974 [==============================] - 381s 16ms/step - loss: 0.0434 - accuracy: 0.3755 - val_loss: 0.0430 - val_accuracy: 0.3755\n",
      "Epoch 9/10\n",
      "23974/23974 [==============================] - ETA: 0s - loss: 0.0410 - accuracy: 0.3760\n",
      "Epoch 9: val_accuracy improved from 0.37546 to 0.37569, saving model to models\\model_new.h5\n",
      "23974/23974 [==============================] - 384s 16ms/step - loss: 0.0410 - accuracy: 0.3760 - val_loss: 0.0415 - val_accuracy: 0.3757\n",
      "Epoch 10/10\n",
      "23972/23974 [============================>.] - ETA: 0s - loss: 0.0394 - accuracy: 0.3764\n",
      "Epoch 10: val_accuracy improved from 0.37569 to 0.37592, saving model to models\\model_new.h5\n",
      "23974/23974 [==============================] - 386s 16ms/step - loss: 0.0394 - accuracy: 0.3764 - val_loss: 0.0403 - val_accuracy: 0.3759\n"
     ]
    }
   ],
   "source": [
    "# history = model.fit([encoder_input_data, decoder_input_data], decoder_target_data,\n",
    "#           batch_size=1,\n",
    "#           epochs=20,\n",
    "#           validation_split=0.2, \n",
    "#           callbacks=[earlystopping_cb, mdlcheckpoint_cb])\n",
    "\n",
    "history = model.fit(\n",
    "    train_generator,\n",
    "    steps_per_epoch=steps_per_epoch,\n",
    "    epochs=10,\n",
    "    validation_data=val_generator,\n",
    "    validation_steps=validation_steps,\n",
    "    callbacks=[earlystopping_cb, mdlcheckpoint_cb]\n",
    ")"
   ]
  },
  {
   "cell_type": "code",
   "execution_count": 27,
   "id": "fuf1888YbGp2",
   "metadata": {
    "colab": {
     "base_uri": "https://localhost:8080/"
    },
    "id": "fuf1888YbGp2",
    "outputId": "331fac3a-f3a8-4c69-af82-45cef62ae28f"
   },
   "outputs": [
    {
     "name": "stdout",
     "output_type": "stream",
     "text": [
      "dict_keys(['loss', 'accuracy', 'val_loss', 'val_accuracy'])\n"
     ]
    }
   ],
   "source": [
    "print(history.history.keys())"
   ]
  },
  {
   "cell_type": "code",
   "execution_count": 28,
   "id": "61rB-bdebw73",
   "metadata": {
    "colab": {
     "base_uri": "https://localhost:8080/",
     "height": 472
    },
    "id": "61rB-bdebw73",
    "outputId": "4cd91186-77b7-4925-c881-9700705ef621"
   },
   "outputs": [
    {
     "data": {
      "image/png": "[encoded data removed]",
      "text/plain": [
       "<Figure size 640x480 with 1 Axes>"
      ]
     },
     "metadata": {},
     "output_type": "display_data"
    }
   ],
   "source": [
    "import matplotlib.pyplot as plt\n",
    "plt.plot(history.history['accuracy'])\n",
    "plt.plot(history.history['val_accuracy'])\n",
    "plt.title('model accuracy')\n",
    "plt.ylabel('accuracy')\n",
    "plt.xlabel('epoch')\n",
    "plt.legend(['train', 'validation'], loc='upper left')\n",
    "plt.show()"
   ]
  },
  {
   "cell_type": "code",
   "execution_count": 29,
   "id": "vWs7823rbxUX",
   "metadata": {
    "colab": {
     "base_uri": "https://localhost:8080/",
     "height": 472
    },
    "id": "vWs7823rbxUX",
    "outputId": "0a045622-37c1-472a-af46-4cf5b68640f8"
   },
   "outputs": [
    {
     "data": {
      "image/png": "[encoded data removed]",
      "text/plain": [
       "<Figure size 640x480 with 1 Axes>"
      ]
     },
     "metadata": {},
     "output_type": "display_data"
    }
   ],
   "source": [
    "plt.plot(history.history['loss'])\n",
    "plt.plot(history.history['val_loss'])\n",
    "plt.title('model loss')\n",
    "plt.ylabel('loss')\n",
    "plt.xlabel('epoch')\n",
    "plt.legend(['train', 'validation'], loc='upper left')\n",
    "plt.show()"
   ]
  },
  {
   "cell_type": "markdown",
   "id": "VVbKC-W7zH-z",
   "metadata": {
    "id": "VVbKC-W7zH-z"
   },
   "source": [
    "# Model Inference"
   ]
  },
  {
   "cell_type": "code",
   "execution_count": 32,
   "id": "992a045d-570c-454d-900a-3fd87584a68b",
   "metadata": {},
   "outputs": [
    {
     "name": "stdout",
     "output_type": "stream",
     "text": [
      "Nepali text: म राम्रो मान्छे हो\n",
      "1/1 [==============================] - 0s 436ms/step\n",
      "1/1 [==============================] - 0s 418ms/step\n",
      "1/1 [==============================] - 0s 37ms/step\n",
      "1/1 [==============================] - 0s 31ms/step\n",
      "1/1 [==============================] - 0s 16ms/step\n",
      "1/1 [==============================] - 0s 31ms/step\n",
      "1/1 [==============================] - 0s 31ms/step\n",
      "1/1 [==============================] - 0s 20ms/step\n",
      "1/1 [==============================] - 0s 31ms/step\n",
      "1/1 [==============================] - 0s 16ms/step\n",
      "1/1 [==============================] - 0s 16ms/step\n",
      "1/1 [==============================] - 0s 16ms/step\n",
      "1/1 [==============================] - 0s 16ms/step\n",
      "1/1 [==============================] - 0s 31ms/step\n",
      "1/1 [==============================] - 0s 21ms/step\n",
      "1/1 [==============================] - 0s 31ms/step\n",
      "1/1 [==============================] - 0s 17ms/step\n",
      "1/1 [==============================] - 0s 34ms/step\n",
      "1/1 [==============================] - 0s 25ms/step\n",
      "1/1 [==============================] - 0s 37ms/step\n",
      "1/1 [==============================] - 0s 29ms/step\n",
      "1/1 [==============================] - 0s 27ms/step\n",
      "1/1 [==============================] - 0s 24ms/step\n",
      "1/1 [==============================] - 0s 22ms/step\n",
      "1/1 [==============================] - 0s 22ms/step\n",
      "Transliterated English text: ma ramro manchhe hoh\n"
     ]
    }
   ],
   "source": [
    "from keras.models import load_model\n",
    "import numpy as np\n",
    "\n",
    "# Define constants\n",
    "num_encoder_tokens = 64\n",
    "num_decoder_tokens = 28\n",
    "max_input_len = 19\n",
    "max_target_len = 31\n",
    "\n",
    "input_char_index = {'ँ': 0, 'ं': 1, 'ः': 2, 'अ': 3, 'आ': 4, 'इ': 5, 'ई': 6, 'उ': 7, 'ऊ': 8, 'ऋ': 9, 'ए': 10, 'ऐ': 11, 'ऑ': 12, 'ओ': 13, 'औ': 14, 'क': 15, 'ख': 16, 'ग': 17, 'घ': 18, 'ङ': 19, 'च': 20, 'छ': 21, 'ज': 22, 'झ': 23, 'ञ': 24, 'ट': 25, 'ठ': 26, 'ड': 27, 'ढ': 28, 'ण': 29, 'त': 30, 'थ': 31, 'द': 32, 'ध': 33, 'न': 34, 'प': 35, 'फ': 36, 'ब': 37, 'भ': 38, 'म': 39, 'य': 40, 'र': 41, 'ल': 42, 'व': 43, 'श': 44, 'ष': 45, 'स': 46, 'ह': 47, '़': 48, 'ऽ': 49, 'ा': 50, 'ि': 51, 'ी': 52, 'ु': 53, 'ू': 54, 'ृ': 55, 'े': 56, 'ै': 57, 'ॉ': 58, 'ो': 59, 'ौ': 60, '्': 61, 'ॠ': 62, '॰': 63}\n",
    "target_char_index = {'$': 0, '^': 1, 'a': 2, 'b': 3, 'c': 4, 'd': 5, 'e': 6, 'f': 7, 'g': 8, 'h': 9, 'i': 10, 'j': 11, 'k': 12, 'l': 13, 'm': 14, 'n': 15, 'o': 16, 'p': 17, 'q': 18, 'r': 19, 's': 20, 't': 21, 'u': 22, 'v': 23, 'w': 24, 'x': 25, 'y': 26, 'z': 27}\n",
    "\n",
    "target_chars = list(target_char_index.keys())\n",
    "\n",
    "# Load the trained model\n",
    "model = load_model('models/model_new.h5')\n",
    "\n",
    "# Extract encoder and decoder models\n",
    "encoder_inputs = model.input[0]\n",
    "encoder_outputs, state_h_enc, state_c_enc = model.get_layer('lstm').output\n",
    "encoder_states = [state_h_enc, state_c_enc]\n",
    "encoder_model = Model(encoder_inputs, encoder_states)\n",
    "\n",
    "decoder_inputs = model.input[1]\n",
    "decoder_lstm = model.get_layer('lstm_1')\n",
    "decoder_dense = model.get_layer('dense')\n",
    "\n",
    "decoder_state_input_h = Input(shape=(256,))\n",
    "decoder_state_input_c = Input(shape=(256,))\n",
    "decoder_states_inputs = [decoder_state_input_h, decoder_state_input_c]\n",
    "decoder_outputs, state_h, state_c = decoder_lstm(decoder_inputs, initial_state=decoder_states_inputs)\n",
    "decoder_states = [state_h, state_c]\n",
    "decoder_outputs = decoder_dense(decoder_outputs)\n",
    "decoder_model = Model([decoder_inputs] + decoder_states_inputs, [decoder_outputs] + decoder_states)\n",
    "\n",
    "# Decode sequence function remains the same\n",
    "def decode_sequence(input_seq):\n",
    "    states_value = encoder_model.predict(input_seq)\n",
    "    target_seq = np.zeros((1, 1, num_decoder_tokens))\n",
    "    target_seq[0, 0, target_char_index['^']] = 1.0\n",
    "    stop_condition = False\n",
    "    decoded_sentence = ''\n",
    "    while not stop_condition:\n",
    "        output_tokens, h, c = decoder_model.predict([target_seq] + states_value)\n",
    "        sampled_token_index = np.argmax(output_tokens[0, -1, :])\n",
    "        sampled_char = target_chars[sampled_token_index]\n",
    "        decoded_sentence += sampled_char\n",
    "        if (sampled_char == '$' or len(decoded_sentence) > max_target_len):\n",
    "            stop_condition = True\n",
    "        target_seq = np.zeros((1, 1, num_decoder_tokens))\n",
    "        target_seq[0, 0, sampled_token_index] = 1.0\n",
    "        states_value = [h, c]\n",
    "    return decoded_sentence\n",
    "\n",
    "# Predict output function remains the same\n",
    "def predict_output(input_text):\n",
    "    words = input_text.split(' ')\n",
    "    transliterated_words = []\n",
    "    for word in words:\n",
    "        input_seq = np.zeros((1, max_input_len, num_encoder_tokens), dtype='float32')\n",
    "        for t, char in enumerate(word):\n",
    "            input_seq[0, t, input_char_index[char]] = 1\n",
    "        decoded_word = decode_sequence(input_seq)\n",
    "        transliterated_words.append(decoded_word.rstrip('$'))\n",
    "    return ' '.join(transliterated_words)\n",
    "\n",
    "# Test the prediction\n",
    "text = 'म राम्रो मान्छे हो'\n",
    "print('Nepali text:', text)\n",
    "print('Transliterated English text:', predict_output(text))\n"
   ]
  },
  {
   "cell_type": "code",
   "execution_count": null,
   "id": "3be82620-fb6b-47c5-8e72-2b5dac85640f",
   "metadata": {},
   "outputs": [],
   "source": []
  }
 ],
 "metadata": {
  "colab": {
   "include_colab_link": true,
   "provenance": []
  },
  "kernelspec": {
   "display_name": "Python 3 (ipykernel)",
   "language": "python",
   "name": "python3"
  },
  "language_info": {
   "codemirror_mode": {
    "name": "ipython",
    "version": 3
   },
   "file_extension": ".py",
   "mimetype": "text/x-python",
   "name": "python",
   "nbconvert_exporter": "python",
   "pygments_lexer": "ipython3",
   "version": "3.9.18"
  }
 },
 "nbformat": 4,
 "nbformat_minor": 5
}
